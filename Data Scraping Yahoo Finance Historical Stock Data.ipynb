{
 "cells": [
  {
   "cell_type": "code",
   "execution_count": 1,
   "metadata": {},
   "outputs": [],
   "source": [
    "import time\n",
    "import datetime\n",
    "import pandas as pd"
   ]
  },
  {
   "cell_type": "code",
   "execution_count": 2,
   "metadata": {},
   "outputs": [],
   "source": [
    "# creating query_string to pull data from\n",
    "\n",
    "# f-string values to use\n",
    "ticker ='BB'\n",
    "period1 = int(time.mktime(datetime.datetime(2020,12,27,23,59).timetuple()))\n",
    "period2 = int(time.mktime(datetime.datetime(2021,10,8,23,59).timetuple()))\n",
    "interval = '1d' #1d, 1m, 1wk\n",
    "\n",
    "query_string = f'https://query1.finance.yahoo.com/v7/finance/download/{ticker}?period1={period1}&period2={period2}&interval={interval}&events=history&includeAdjustedClose=true'"
   ]
  },
  {
   "cell_type": "code",
   "execution_count": 8,
   "metadata": {},
   "outputs": [
    {
     "data": {
      "text/plain": [
       "'https://query1.finance.yahoo.com/v7/finance/download/GME?period1=1606885140&period2=1609477140&interval=1wk&events=history&includeAdjustedClose=true'"
      ]
     },
     "execution_count": 8,
     "metadata": {},
     "output_type": "execute_result"
    }
   ],
   "source": [
    "#checking if the link is working correctly\n",
    "query_string"
   ]
  },
  {
   "cell_type": "code",
   "execution_count": 3,
   "metadata": {
    "scrolled": false
   },
   "outputs": [
    {
     "data": {
      "text/html": [
       "<div>\n",
       "<style scoped>\n",
       "    .dataframe tbody tr th:only-of-type {\n",
       "        vertical-align: middle;\n",
       "    }\n",
       "\n",
       "    .dataframe tbody tr th {\n",
       "        vertical-align: top;\n",
       "    }\n",
       "\n",
       "    .dataframe thead th {\n",
       "        text-align: right;\n",
       "    }\n",
       "</style>\n",
       "<table border=\"1\" class=\"dataframe\">\n",
       "  <thead>\n",
       "    <tr style=\"text-align: right;\">\n",
       "      <th></th>\n",
       "      <th>Date</th>\n",
       "      <th>Open</th>\n",
       "      <th>High</th>\n",
       "      <th>Low</th>\n",
       "      <th>Close</th>\n",
       "      <th>Adj Close</th>\n",
       "      <th>Volume</th>\n",
       "    </tr>\n",
       "  </thead>\n",
       "  <tbody>\n",
       "    <tr>\n",
       "      <th>0</th>\n",
       "      <td>2020-12-28</td>\n",
       "      <td>7.10</td>\n",
       "      <td>7.13</td>\n",
       "      <td>6.85</td>\n",
       "      <td>6.88</td>\n",
       "      <td>6.88</td>\n",
       "      <td>9820100</td>\n",
       "    </tr>\n",
       "    <tr>\n",
       "      <th>1</th>\n",
       "      <td>2020-12-29</td>\n",
       "      <td>6.98</td>\n",
       "      <td>7.00</td>\n",
       "      <td>6.68</td>\n",
       "      <td>6.77</td>\n",
       "      <td>6.77</td>\n",
       "      <td>11284200</td>\n",
       "    </tr>\n",
       "    <tr>\n",
       "      <th>2</th>\n",
       "      <td>2020-12-30</td>\n",
       "      <td>6.79</td>\n",
       "      <td>6.81</td>\n",
       "      <td>6.60</td>\n",
       "      <td>6.67</td>\n",
       "      <td>6.67</td>\n",
       "      <td>9434900</td>\n",
       "    </tr>\n",
       "    <tr>\n",
       "      <th>3</th>\n",
       "      <td>2020-12-31</td>\n",
       "      <td>6.68</td>\n",
       "      <td>6.80</td>\n",
       "      <td>6.63</td>\n",
       "      <td>6.63</td>\n",
       "      <td>6.63</td>\n",
       "      <td>7530600</td>\n",
       "    </tr>\n",
       "    <tr>\n",
       "      <th>4</th>\n",
       "      <td>2021-01-04</td>\n",
       "      <td>6.70</td>\n",
       "      <td>6.82</td>\n",
       "      <td>6.52</td>\n",
       "      <td>6.58</td>\n",
       "      <td>6.58</td>\n",
       "      <td>11139200</td>\n",
       "    </tr>\n",
       "    <tr>\n",
       "      <th>...</th>\n",
       "      <td>...</td>\n",
       "      <td>...</td>\n",
       "      <td>...</td>\n",
       "      <td>...</td>\n",
       "      <td>...</td>\n",
       "      <td>...</td>\n",
       "      <td>...</td>\n",
       "    </tr>\n",
       "    <tr>\n",
       "      <th>193</th>\n",
       "      <td>2021-10-04</td>\n",
       "      <td>9.66</td>\n",
       "      <td>9.72</td>\n",
       "      <td>9.35</td>\n",
       "      <td>9.60</td>\n",
       "      <td>9.60</td>\n",
       "      <td>9718800</td>\n",
       "    </tr>\n",
       "    <tr>\n",
       "      <th>194</th>\n",
       "      <td>2021-10-05</td>\n",
       "      <td>9.63</td>\n",
       "      <td>9.83</td>\n",
       "      <td>9.50</td>\n",
       "      <td>9.52</td>\n",
       "      <td>9.52</td>\n",
       "      <td>6225200</td>\n",
       "    </tr>\n",
       "    <tr>\n",
       "      <th>195</th>\n",
       "      <td>2021-10-06</td>\n",
       "      <td>9.37</td>\n",
       "      <td>9.45</td>\n",
       "      <td>9.10</td>\n",
       "      <td>9.36</td>\n",
       "      <td>9.36</td>\n",
       "      <td>9246600</td>\n",
       "    </tr>\n",
       "    <tr>\n",
       "      <th>196</th>\n",
       "      <td>2021-10-07</td>\n",
       "      <td>9.47</td>\n",
       "      <td>9.75</td>\n",
       "      <td>9.29</td>\n",
       "      <td>9.60</td>\n",
       "      <td>9.60</td>\n",
       "      <td>5519400</td>\n",
       "    </tr>\n",
       "    <tr>\n",
       "      <th>197</th>\n",
       "      <td>2021-10-08</td>\n",
       "      <td>9.56</td>\n",
       "      <td>9.59</td>\n",
       "      <td>9.36</td>\n",
       "      <td>9.39</td>\n",
       "      <td>9.39</td>\n",
       "      <td>4692800</td>\n",
       "    </tr>\n",
       "  </tbody>\n",
       "</table>\n",
       "<p>198 rows × 7 columns</p>\n",
       "</div>"
      ],
      "text/plain": [
       "           Date  Open  High   Low  Close  Adj Close    Volume\n",
       "0    2020-12-28  7.10  7.13  6.85   6.88       6.88   9820100\n",
       "1    2020-12-29  6.98  7.00  6.68   6.77       6.77  11284200\n",
       "2    2020-12-30  6.79  6.81  6.60   6.67       6.67   9434900\n",
       "3    2020-12-31  6.68  6.80  6.63   6.63       6.63   7530600\n",
       "4    2021-01-04  6.70  6.82  6.52   6.58       6.58  11139200\n",
       "..          ...   ...   ...   ...    ...        ...       ...\n",
       "193  2021-10-04  9.66  9.72  9.35   9.60       9.60   9718800\n",
       "194  2021-10-05  9.63  9.83  9.50   9.52       9.52   6225200\n",
       "195  2021-10-06  9.37  9.45  9.10   9.36       9.36   9246600\n",
       "196  2021-10-07  9.47  9.75  9.29   9.60       9.60   5519400\n",
       "197  2021-10-08  9.56  9.59  9.36   9.39       9.39   4692800\n",
       "\n",
       "[198 rows x 7 columns]"
      ]
     },
     "execution_count": 3,
     "metadata": {},
     "output_type": "execute_result"
    }
   ],
   "source": [
    "#pulling it into df\n",
    "df = pd.read_csv(query_string)\n",
    "df"
   ]
  },
  {
   "cell_type": "code",
   "execution_count": 4,
   "metadata": {},
   "outputs": [],
   "source": [
    "#to save this data into .csv\n",
    "df.to_csv('BB.csv')"
   ]
  }
 ],
 "metadata": {
  "kernelspec": {
   "display_name": "Python 3",
   "language": "python",
   "name": "python3"
  },
  "language_info": {
   "codemirror_mode": {
    "name": "ipython",
    "version": 3
   },
   "file_extension": ".py",
   "mimetype": "text/x-python",
   "name": "python",
   "nbconvert_exporter": "python",
   "pygments_lexer": "ipython3",
   "version": "3.8.3"
  }
 },
 "nbformat": 4,
 "nbformat_minor": 4
}
