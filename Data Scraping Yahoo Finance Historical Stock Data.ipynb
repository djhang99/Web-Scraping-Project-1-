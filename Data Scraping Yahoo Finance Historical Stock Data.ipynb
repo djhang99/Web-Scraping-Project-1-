{
 "cells": [
  {
   "cell_type": "code",
   "execution_count": 19,
   "metadata": {},
   "outputs": [],
   "source": [
    "import time\n",
    "import datetime\n",
    "import pandas as pd"
   ]
  },
  {
   "cell_type": "code",
   "execution_count": 11,
   "metadata": {},
   "outputs": [],
   "source": [
    "# creating query_string to pull data from\n",
    "\n",
    "# f-string values to use\n",
    "ticker ='SPY'\n",
    "period1 = int(time.mktime(datetime.datetime(2020,12,27,23,59).timetuple()))\n",
    "period2 = int(time.mktime(datetime.datetime(2021,10,8,23,59).timetuple()))\n",
    "interval = '1d' #1d, 1m, 1wk\n",
    "\n",
    "query_string = f'https://query1.finance.yahoo.com/v7/finance/download/{ticker}?period1={period1}&period2={period2}&interval={interval}&events=history&includeAdjustedClose=true'"
   ]
  },
  {
   "cell_type": "code",
   "execution_count": 12,
   "metadata": {},
   "outputs": [
    {
     "data": {
      "text/plain": [
       "'https://query1.finance.yahoo.com/v7/finance/download/SPY?period1=1609131540&period2=1633751940&interval=1d&events=history&includeAdjustedClose=true'"
      ]
     },
     "execution_count": 12,
     "metadata": {},
     "output_type": "execute_result"
    }
   ],
   "source": [
    "#checking if the link is working correctly\n",
    "query_string"
   ]
  },
  {
   "cell_type": "code",
   "execution_count": 14,
   "metadata": {
    "scrolled": false
   },
   "outputs": [
    {
     "data": {
      "text/html": [
       "<div>\n",
       "<style scoped>\n",
       "    .dataframe tbody tr th:only-of-type {\n",
       "        vertical-align: middle;\n",
       "    }\n",
       "\n",
       "    .dataframe tbody tr th {\n",
       "        vertical-align: top;\n",
       "    }\n",
       "\n",
       "    .dataframe thead th {\n",
       "        text-align: right;\n",
       "    }\n",
       "</style>\n",
       "<table border=\"1\" class=\"dataframe\">\n",
       "  <thead>\n",
       "    <tr style=\"text-align: right;\">\n",
       "      <th></th>\n",
       "      <th>Date</th>\n",
       "      <th>Open</th>\n",
       "      <th>High</th>\n",
       "      <th>Low</th>\n",
       "      <th>Close</th>\n",
       "      <th>Adj Close</th>\n",
       "      <th>Volume</th>\n",
       "    </tr>\n",
       "  </thead>\n",
       "  <tbody>\n",
       "    <tr>\n",
       "      <th>0</th>\n",
       "      <td>2020-12-28</td>\n",
       "      <td>371.739990</td>\n",
       "      <td>372.589996</td>\n",
       "      <td>371.070007</td>\n",
       "      <td>372.170013</td>\n",
       "      <td>368.564636</td>\n",
       "      <td>39000400</td>\n",
       "    </tr>\n",
       "    <tr>\n",
       "      <th>1</th>\n",
       "      <td>2020-12-29</td>\n",
       "      <td>373.809998</td>\n",
       "      <td>374.000000</td>\n",
       "      <td>370.829987</td>\n",
       "      <td>371.459991</td>\n",
       "      <td>367.861481</td>\n",
       "      <td>53680500</td>\n",
       "    </tr>\n",
       "    <tr>\n",
       "      <th>2</th>\n",
       "      <td>2020-12-30</td>\n",
       "      <td>372.339996</td>\n",
       "      <td>373.100006</td>\n",
       "      <td>371.570007</td>\n",
       "      <td>371.989990</td>\n",
       "      <td>368.386383</td>\n",
       "      <td>49455300</td>\n",
       "    </tr>\n",
       "    <tr>\n",
       "      <th>3</th>\n",
       "      <td>2020-12-31</td>\n",
       "      <td>371.779999</td>\n",
       "      <td>374.660004</td>\n",
       "      <td>371.230011</td>\n",
       "      <td>373.880005</td>\n",
       "      <td>370.258087</td>\n",
       "      <td>78520700</td>\n",
       "    </tr>\n",
       "    <tr>\n",
       "      <th>4</th>\n",
       "      <td>2021-01-04</td>\n",
       "      <td>375.309998</td>\n",
       "      <td>375.450012</td>\n",
       "      <td>364.820007</td>\n",
       "      <td>368.790009</td>\n",
       "      <td>365.217377</td>\n",
       "      <td>110210800</td>\n",
       "    </tr>\n",
       "    <tr>\n",
       "      <th>...</th>\n",
       "      <td>...</td>\n",
       "      <td>...</td>\n",
       "      <td>...</td>\n",
       "      <td>...</td>\n",
       "      <td>...</td>\n",
       "      <td>...</td>\n",
       "      <td>...</td>\n",
       "    </tr>\n",
       "    <tr>\n",
       "      <th>193</th>\n",
       "      <td>2021-10-04</td>\n",
       "      <td>433.000000</td>\n",
       "      <td>433.959991</td>\n",
       "      <td>426.359985</td>\n",
       "      <td>428.640015</td>\n",
       "      <td>428.640015</td>\n",
       "      <td>128570000</td>\n",
       "    </tr>\n",
       "    <tr>\n",
       "      <th>194</th>\n",
       "      <td>2021-10-05</td>\n",
       "      <td>430.239990</td>\n",
       "      <td>435.489990</td>\n",
       "      <td>429.390015</td>\n",
       "      <td>433.100006</td>\n",
       "      <td>433.100006</td>\n",
       "      <td>90682500</td>\n",
       "    </tr>\n",
       "    <tr>\n",
       "      <th>195</th>\n",
       "      <td>2021-10-06</td>\n",
       "      <td>429.269989</td>\n",
       "      <td>435.119995</td>\n",
       "      <td>427.540009</td>\n",
       "      <td>434.899994</td>\n",
       "      <td>434.899994</td>\n",
       "      <td>113032200</td>\n",
       "    </tr>\n",
       "    <tr>\n",
       "      <th>196</th>\n",
       "      <td>2021-10-07</td>\n",
       "      <td>438.390015</td>\n",
       "      <td>441.679993</td>\n",
       "      <td>438.200012</td>\n",
       "      <td>438.660004</td>\n",
       "      <td>438.660004</td>\n",
       "      <td>72437500</td>\n",
       "    </tr>\n",
       "    <tr>\n",
       "      <th>197</th>\n",
       "      <td>2021-10-08</td>\n",
       "      <td>439.480011</td>\n",
       "      <td>439.890015</td>\n",
       "      <td>437.190002</td>\n",
       "      <td>437.859985</td>\n",
       "      <td>437.859985</td>\n",
       "      <td>74492900</td>\n",
       "    </tr>\n",
       "  </tbody>\n",
       "</table>\n",
       "<p>198 rows × 7 columns</p>\n",
       "</div>"
      ],
      "text/plain": [
       "           Date        Open        High         Low       Close   Adj Close  \\\n",
       "0    2020-12-28  371.739990  372.589996  371.070007  372.170013  368.564636   \n",
       "1    2020-12-29  373.809998  374.000000  370.829987  371.459991  367.861481   \n",
       "2    2020-12-30  372.339996  373.100006  371.570007  371.989990  368.386383   \n",
       "3    2020-12-31  371.779999  374.660004  371.230011  373.880005  370.258087   \n",
       "4    2021-01-04  375.309998  375.450012  364.820007  368.790009  365.217377   \n",
       "..          ...         ...         ...         ...         ...         ...   \n",
       "193  2021-10-04  433.000000  433.959991  426.359985  428.640015  428.640015   \n",
       "194  2021-10-05  430.239990  435.489990  429.390015  433.100006  433.100006   \n",
       "195  2021-10-06  429.269989  435.119995  427.540009  434.899994  434.899994   \n",
       "196  2021-10-07  438.390015  441.679993  438.200012  438.660004  438.660004   \n",
       "197  2021-10-08  439.480011  439.890015  437.190002  437.859985  437.859985   \n",
       "\n",
       "        Volume  \n",
       "0     39000400  \n",
       "1     53680500  \n",
       "2     49455300  \n",
       "3     78520700  \n",
       "4    110210800  \n",
       "..         ...  \n",
       "193  128570000  \n",
       "194   90682500  \n",
       "195  113032200  \n",
       "196   72437500  \n",
       "197   74492900  \n",
       "\n",
       "[198 rows x 7 columns]"
      ]
     },
     "execution_count": 14,
     "metadata": {},
     "output_type": "execute_result"
    }
   ],
   "source": [
    "#pulling it into df\n",
    "df = pd.read_csv(query_string)\n",
    "df"
   ]
  },
  {
   "cell_type": "code",
   "execution_count": null,
   "metadata": {},
   "outputs": [],
   "source": [
    "# Date column needs to be cleaned.. converting into date format\n",
    "df['date'] = pd.to_datetime(df['date'])"
   ]
  },
  {
   "cell_type": "code",
   "execution_count": 15,
   "metadata": {},
   "outputs": [],
   "source": [
    "#to save this data into .csv\n",
    "df.to_csv('SPY.csv')"
   ]
  },
  {
   "cell_type": "code",
   "execution_count": 57,
   "metadata": {},
   "outputs": [],
   "source": [
    "# create function to do all this\n",
    "def yahoo_pull(stock):\n",
    "    #packages\n",
    "    import time\n",
    "    import datetime\n",
    "    import pandas as pd\n",
    "    \n",
    "    # f-string values to use\n",
    "    ticker = stock\n",
    "    period1 = int(time.mktime(datetime.datetime(2020,12,27,23,59).timetuple()))\n",
    "    period2 = int(time.mktime(datetime.datetime(2021,10,8,23,59).timetuple()))\n",
    "    interval = '1d' #1d, 1m, 1wk\n",
    "    \n",
    "    #creates the link\n",
    "    query_string = f'https://query1.finance.yahoo.com/v7/finance/download/{ticker}?period1={period1}&period2={period2}&interval={interval}&events=history&includeAdjustedClose=true'\n",
    "    \n",
    "    #pulling it into df\n",
    "    df = pd.read_csv(query_string)\n",
    "    \n",
    "    #to save this data into .csv\n",
    "    df.to_csv(f'{ticker}.csv')"
   ]
  },
  {
   "cell_type": "code",
   "execution_count": 58,
   "metadata": {},
   "outputs": [],
   "source": [
    "yahoo_pull('SPY')\n",
    "yahoo_pull('GME')\n",
    "yahoo_pull('AMC')\n",
    "yahoo_pull('BB')"
   ]
  }
 ],
 "metadata": {
  "kernelspec": {
   "display_name": "Python 3",
   "language": "python",
   "name": "python3"
  },
  "language_info": {
   "codemirror_mode": {
    "name": "ipython",
    "version": 3
   },
   "file_extension": ".py",
   "mimetype": "text/x-python",
   "name": "python",
   "nbconvert_exporter": "python",
   "pygments_lexer": "ipython3",
   "version": "3.8.3"
  }
 },
 "nbformat": 4,
 "nbformat_minor": 4
}
