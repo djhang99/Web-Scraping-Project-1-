{
 "cells": [
  {
   "cell_type": "code",
   "execution_count": 2,
   "metadata": {},
   "outputs": [],
   "source": [
    "import time\n",
    "import datetime\n",
    "import pandas as pd"
   ]
  },
  {
   "cell_type": "code",
   "execution_count": 17,
   "metadata": {},
   "outputs": [
    {
     "name": "stdout",
     "output_type": "stream",
     "text": [
      "1609131540\n"
     ]
    }
   ],
   "source": [
    "# creating query_string to pull data from\n",
    "\n",
    "# f-string values to use\n",
    "ticker ='GME'\n",
    "period1 = int(time.mktime(datetime.datetime(2020,12,27,23,59).timetuple()))\n",
    "period2 = int(time.mktime(datetime.datetime(2021,10,8,23,59).timetuple()))\n",
    "interval = '1d' #1d, 1m, 1wk\n",
    "\n",
    "query_string = f'https://query1.finance.yahoo.com/v7/finance/download/{ticker}?period1={period1}&period2={period2}&interval={interval}&events=history&includeAdjustedClose=true'"
   ]
  },
  {
   "cell_type": "code",
   "execution_count": 8,
   "metadata": {},
   "outputs": [
    {
     "data": {
      "text/plain": [
       "'https://query1.finance.yahoo.com/v7/finance/download/GME?period1=1606885140&period2=1609477140&interval=1wk&events=history&includeAdjustedClose=true'"
      ]
     },
     "execution_count": 8,
     "metadata": {},
     "output_type": "execute_result"
    }
   ],
   "source": [
    "#checking if the link is working correctly\n",
    "query_string"
   ]
  },
  {
   "cell_type": "code",
   "execution_count": 15,
   "metadata": {
    "scrolled": false
   },
   "outputs": [
    {
     "data": {
      "text/html": [
       "<div>\n",
       "<style scoped>\n",
       "    .dataframe tbody tr th:only-of-type {\n",
       "        vertical-align: middle;\n",
       "    }\n",
       "\n",
       "    .dataframe tbody tr th {\n",
       "        vertical-align: top;\n",
       "    }\n",
       "\n",
       "    .dataframe thead th {\n",
       "        text-align: right;\n",
       "    }\n",
       "</style>\n",
       "<table border=\"1\" class=\"dataframe\">\n",
       "  <thead>\n",
       "    <tr style=\"text-align: right;\">\n",
       "      <th></th>\n",
       "      <th>Date</th>\n",
       "      <th>Open</th>\n",
       "      <th>High</th>\n",
       "      <th>Low</th>\n",
       "      <th>Close</th>\n",
       "      <th>Adj Close</th>\n",
       "      <th>Volume</th>\n",
       "    </tr>\n",
       "  </thead>\n",
       "  <tbody>\n",
       "    <tr>\n",
       "      <th>0</th>\n",
       "      <td>2020-12-28</td>\n",
       "      <td>21.309999</td>\n",
       "      <td>21.969999</td>\n",
       "      <td>20.350000</td>\n",
       "      <td>20.990000</td>\n",
       "      <td>20.990000</td>\n",
       "      <td>8965900</td>\n",
       "    </tr>\n",
       "    <tr>\n",
       "      <th>1</th>\n",
       "      <td>2020-12-29</td>\n",
       "      <td>20.820000</td>\n",
       "      <td>21.070000</td>\n",
       "      <td>18.559999</td>\n",
       "      <td>19.379999</td>\n",
       "      <td>19.379999</td>\n",
       "      <td>9241400</td>\n",
       "    </tr>\n",
       "    <tr>\n",
       "      <th>2</th>\n",
       "      <td>2020-12-30</td>\n",
       "      <td>19.379999</td>\n",
       "      <td>20.000000</td>\n",
       "      <td>18.850000</td>\n",
       "      <td>19.260000</td>\n",
       "      <td>19.260000</td>\n",
       "      <td>5934400</td>\n",
       "    </tr>\n",
       "    <tr>\n",
       "      <th>3</th>\n",
       "      <td>2020-12-31</td>\n",
       "      <td>19.250000</td>\n",
       "      <td>19.799999</td>\n",
       "      <td>18.799999</td>\n",
       "      <td>18.840000</td>\n",
       "      <td>18.840000</td>\n",
       "      <td>6922700</td>\n",
       "    </tr>\n",
       "    <tr>\n",
       "      <th>4</th>\n",
       "      <td>2021-01-04</td>\n",
       "      <td>19.000000</td>\n",
       "      <td>19.100000</td>\n",
       "      <td>17.150000</td>\n",
       "      <td>17.250000</td>\n",
       "      <td>17.250000</td>\n",
       "      <td>10022500</td>\n",
       "    </tr>\n",
       "    <tr>\n",
       "      <th>...</th>\n",
       "      <td>...</td>\n",
       "      <td>...</td>\n",
       "      <td>...</td>\n",
       "      <td>...</td>\n",
       "      <td>...</td>\n",
       "      <td>...</td>\n",
       "      <td>...</td>\n",
       "    </tr>\n",
       "    <tr>\n",
       "      <th>193</th>\n",
       "      <td>2021-10-04</td>\n",
       "      <td>175.949997</td>\n",
       "      <td>176.949997</td>\n",
       "      <td>170.770004</td>\n",
       "      <td>171.360001</td>\n",
       "      <td>171.360001</td>\n",
       "      <td>1195700</td>\n",
       "    </tr>\n",
       "    <tr>\n",
       "      <th>194</th>\n",
       "      <td>2021-10-05</td>\n",
       "      <td>171.190002</td>\n",
       "      <td>173.169998</td>\n",
       "      <td>166.699997</td>\n",
       "      <td>172.179993</td>\n",
       "      <td>172.179993</td>\n",
       "      <td>1315900</td>\n",
       "    </tr>\n",
       "    <tr>\n",
       "      <th>195</th>\n",
       "      <td>2021-10-06</td>\n",
       "      <td>170.059998</td>\n",
       "      <td>172.960007</td>\n",
       "      <td>165.809998</td>\n",
       "      <td>171.070007</td>\n",
       "      <td>171.070007</td>\n",
       "      <td>1200300</td>\n",
       "    </tr>\n",
       "    <tr>\n",
       "      <th>196</th>\n",
       "      <td>2021-10-07</td>\n",
       "      <td>172.000000</td>\n",
       "      <td>175.199997</td>\n",
       "      <td>170.539993</td>\n",
       "      <td>172.119995</td>\n",
       "      <td>172.119995</td>\n",
       "      <td>1159300</td>\n",
       "    </tr>\n",
       "    <tr>\n",
       "      <th>197</th>\n",
       "      <td>2021-10-08</td>\n",
       "      <td>172.500000</td>\n",
       "      <td>175.720001</td>\n",
       "      <td>171.119995</td>\n",
       "      <td>172.679993</td>\n",
       "      <td>172.679993</td>\n",
       "      <td>817000</td>\n",
       "    </tr>\n",
       "  </tbody>\n",
       "</table>\n",
       "<p>198 rows × 7 columns</p>\n",
       "</div>"
      ],
      "text/plain": [
       "           Date        Open        High         Low       Close   Adj Close  \\\n",
       "0    2020-12-28   21.309999   21.969999   20.350000   20.990000   20.990000   \n",
       "1    2020-12-29   20.820000   21.070000   18.559999   19.379999   19.379999   \n",
       "2    2020-12-30   19.379999   20.000000   18.850000   19.260000   19.260000   \n",
       "3    2020-12-31   19.250000   19.799999   18.799999   18.840000   18.840000   \n",
       "4    2021-01-04   19.000000   19.100000   17.150000   17.250000   17.250000   \n",
       "..          ...         ...         ...         ...         ...         ...   \n",
       "193  2021-10-04  175.949997  176.949997  170.770004  171.360001  171.360001   \n",
       "194  2021-10-05  171.190002  173.169998  166.699997  172.179993  172.179993   \n",
       "195  2021-10-06  170.059998  172.960007  165.809998  171.070007  171.070007   \n",
       "196  2021-10-07  172.000000  175.199997  170.539993  172.119995  172.119995   \n",
       "197  2021-10-08  172.500000  175.720001  171.119995  172.679993  172.679993   \n",
       "\n",
       "       Volume  \n",
       "0     8965900  \n",
       "1     9241400  \n",
       "2     5934400  \n",
       "3     6922700  \n",
       "4    10022500  \n",
       "..        ...  \n",
       "193   1195700  \n",
       "194   1315900  \n",
       "195   1200300  \n",
       "196   1159300  \n",
       "197    817000  \n",
       "\n",
       "[198 rows x 7 columns]"
      ]
     },
     "execution_count": 15,
     "metadata": {},
     "output_type": "execute_result"
    }
   ],
   "source": [
    "#pulling it into df\n",
    "df = pd.read_csv(query_string)\n",
    "df"
   ]
  },
  {
   "cell_type": "code",
   "execution_count": 16,
   "metadata": {},
   "outputs": [],
   "source": [
    "#to save this data into .csv\n",
    "#df.to_csv('test.csv')"
   ]
  }
 ],
 "metadata": {
  "kernelspec": {
   "display_name": "Python 3",
   "language": "python",
   "name": "python3"
  },
  "language_info": {
   "codemirror_mode": {
    "name": "ipython",
    "version": 3
   },
   "file_extension": ".py",
   "mimetype": "text/x-python",
   "name": "python",
   "nbconvert_exporter": "python",
   "pygments_lexer": "ipython3",
   "version": "3.8.3"
  }
 },
 "nbformat": 4,
 "nbformat_minor": 4
}
