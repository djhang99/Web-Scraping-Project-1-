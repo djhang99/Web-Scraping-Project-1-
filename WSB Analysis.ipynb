{
 "cells": [
  {
   "cell_type": "code",
   "execution_count": 4,
   "metadata": {},
   "outputs": [],
   "source": [
    "import numpy as np\n",
    "import pandas as pd\n",
    "from matplotlib import pyplot as plt"
   ]
  },
  {
   "cell_type": "code",
   "execution_count": 5,
   "metadata": {},
   "outputs": [],
   "source": [
    "#read new combined cleaned dataset\n",
    "df = pd.read_csv(\"..\\Project 1\\WSB Data\\wsb.csv\", index_col=0)\n"
   ]
  },
  {
   "cell_type": "code",
   "execution_count": 6,
   "metadata": {},
   "outputs": [
    {
     "data": {
      "text/plain": [
       "ticker\n",
       "GME     122643\n",
       "BB       41669\n",
       "AMC      38061\n",
       "PLTR     20785\n",
       "CLOV     15889\n",
       "WISH     10965\n",
       "SPY      10823\n",
       "RKT      10520\n",
       "TSLA     10194\n",
       "CLNE      8252\n",
       "NOK       8133\n",
       "UWMC      6239\n",
       "AMD       5620\n",
       "TLRY      5362\n",
       "SNDL      5133\n",
       "AAPL      5040\n",
       "WKHS      4565\n",
       "MVIS      4465\n",
       "NIO       4198\n",
       "ALL       4063\n",
       "Name: num_mentions, dtype: int64"
      ]
     },
     "execution_count": 6,
     "metadata": {},
     "output_type": "execute_result"
    }
   ],
   "source": [
    "#sort by num_mentions rolled up into ticker\n",
    "df_num_mentions =df.sort_values([\"num_mentions\",\"ticker\"],ascending=False).groupby(\"ticker\")\n",
    "df_num_mentions = df.groupby('ticker')['num_mentions'].sum().sort_values(ascending=False)\n",
    "df_num_mentions.head(20)\n",
    "\n",
    "#df_num_mentions.to_csv('test.csv')"
   ]
  },
  {
   "cell_type": "code",
   "execution_count": 7,
   "metadata": {},
   "outputs": [
    {
     "data": {
      "text/plain": [
       "ticker\n",
       "GME     0.165911\n",
       "AMC     0.058821\n",
       "NAPA    0.056667\n",
       "BB      0.049852\n",
       "CLOV    0.045179\n",
       "PLTR    0.039604\n",
       "SPY     0.037637\n",
       "IRNT    0.035556\n",
       "WISH    0.027882\n",
       "SDC     0.026587\n",
       "DOLE    0.025000\n",
       "TSLA    0.022178\n",
       "HOOD    0.021477\n",
       "OPAD    0.020000\n",
       "MVIS    0.018916\n",
       "TMC     0.018611\n",
       "MNMD    0.017564\n",
       "CLNE    0.016797\n",
       "RKT     0.016405\n",
       "MVST    0.015000\n",
       "Name: pct_mentions, dtype: float64"
      ]
     },
     "execution_count": 7,
     "metadata": {},
     "output_type": "execute_result"
    }
   ],
   "source": [
    "#sort by pct_mentions rolled up into ticker\n",
    "df_pct_mentions = df.sort_values([\"pct_mentions\",\"ticker\"],ascending=False).groupby(\"ticker\")\n",
    "df_pct_mentions = df.groupby('ticker')['pct_mentions'].mean().sort_values(ascending=False)\n",
    "df_pct_mentions.head(20)\n",
    "\n",
    "#df_pct_mentions.to_csv('test.csv')"
   ]
  },
  {
   "cell_type": "code",
   "execution_count": 8,
   "metadata": {},
   "outputs": [
    {
     "data": {
      "text/plain": [
       "ticker\n",
       "GME     57609\n",
       "BB      17018\n",
       "AMC     16999\n",
       "PLTR     8497\n",
       "WISH     7928\n",
       "CLOV     5964\n",
       "RKT      5233\n",
       "TSLA     4434\n",
       "SPY      4033\n",
       "CLNE     3651\n",
       "UWMC     3128\n",
       "NOK      3075\n",
       "AMD      2974\n",
       "TLRY     2351\n",
       "MVIS     1995\n",
       "WKHS     1968\n",
       "APHA     1941\n",
       "SNDL     1859\n",
       "CLF      1763\n",
       "NIO      1643\n",
       "Name: pos_count, dtype: int64"
      ]
     },
     "execution_count": 8,
     "metadata": {},
     "output_type": "execute_result"
    }
   ],
   "source": [
    "#sort by pos_count rolled up into ticker\n",
    "df_pos_count =df.sort_values([\"pos_count\",\"ticker\"],ascending=False).groupby(\"ticker\")\n",
    "df_pos_count = df.groupby('ticker')['pos_count'].sum().sort_values(ascending=False)\n",
    "df_pos_count.head(20)\n",
    "\n",
    "#df_pos_count.to_csv('test.csv')"
   ]
  },
  {
   "cell_type": "code",
   "execution_count": 9,
   "metadata": {},
   "outputs": [
    {
     "data": {
      "text/plain": [
       "ticker\n",
       "GME     32026\n",
       "AMC      8611\n",
       "BB       7202\n",
       "PLTR     4758\n",
       "SPY      3128\n",
       "CLOV     2654\n",
       "TSLA     2554\n",
       "RKT      2518\n",
       "ALL      1552\n",
       "NOK      1478\n",
       "NIO      1270\n",
       "CLNE     1242\n",
       "UWMC     1211\n",
       "AMD      1189\n",
       "WISH     1185\n",
       "AAPL      976\n",
       "SNDL      967\n",
       "BABA      934\n",
       "MVIS      906\n",
       "TLRY      840\n",
       "Name: neg_count, dtype: int64"
      ]
     },
     "execution_count": 9,
     "metadata": {},
     "output_type": "execute_result"
    }
   ],
   "source": [
    "#sort by neg_count rolled up into ticker\n",
    "df_neg_count =df.sort_values([\"neg_count\",\"ticker\"],ascending=False).groupby(\"ticker\")\n",
    "df_neg_count = df.groupby('ticker')['neg_count'].sum().sort_values(ascending=False)\n",
    "df_neg_count.head(20)\n",
    "\n",
    "#df_neg_count.to_csv('test.csv')"
   ]
  }
 ],
 "metadata": {
  "kernelspec": {
   "display_name": "Python 3",
   "language": "python",
   "name": "python3"
  },
  "language_info": {
   "codemirror_mode": {
    "name": "ipython",
    "version": 3
   },
   "file_extension": ".py",
   "mimetype": "text/x-python",
   "name": "python",
   "nbconvert_exporter": "python",
   "pygments_lexer": "ipython3",
   "version": "3.8.3"
  }
 },
 "nbformat": 4,
 "nbformat_minor": 4
}
