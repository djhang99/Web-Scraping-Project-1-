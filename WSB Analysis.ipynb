{
 "cells": [
  {
   "cell_type": "code",
   "execution_count": 30,
   "metadata": {},
   "outputs": [],
   "source": [
    "import numpy as np\n",
    "import pandas as pd\n",
    "from matplotlib import pyplot as plt"
   ]
  },
  {
   "cell_type": "code",
   "execution_count": 32,
   "metadata": {},
   "outputs": [],
   "source": [
    "#read new combined cleaned dataset\n",
    "df = pd.read_csv(\"..\\Project 1\\WSB Data\\wsb.csv\", index_col=0)"
   ]
  },
  {
   "cell_type": "code",
   "execution_count": 33,
   "metadata": {},
   "outputs": [
    {
     "data": {
      "text/plain": [
       "ticker\n",
       "GME     122643\n",
       "BB       41669\n",
       "AMC      38061\n",
       "PLTR     20785\n",
       "CLOV     15889\n",
       "WISH     10965\n",
       "SPY      10823\n",
       "RKT      10520\n",
       "TSLA     10194\n",
       "CLNE      8252\n",
       "NOK       8133\n",
       "UWMC      6239\n",
       "AMD       5620\n",
       "TLRY      5362\n",
       "SNDL      5133\n",
       "AAPL      5040\n",
       "WKHS      4565\n",
       "MVIS      4465\n",
       "NIO       4198\n",
       "ALL       4063\n",
       "Name: num_mentions, dtype: int64"
      ]
     },
     "execution_count": 33,
     "metadata": {},
     "output_type": "execute_result"
    }
   ],
   "source": [
    "#sort by num_mentions rolled up into ticker\n",
    "df_num_mentions =df.sort_values([\"num_mentions\",\"ticker\"],ascending=False).groupby(\"ticker\")\n",
    "df_num_mentions = df.groupby('ticker')['num_mentions'].sum().sort_values(ascending=False)\n",
    "df_num_mentions.head(20)\n",
    "\n",
    "#df_num_mentions.to_csv('test.csv')"
   ]
  },
  {
   "cell_type": "code",
   "execution_count": 34,
   "metadata": {},
   "outputs": [
    {
     "data": {
      "text/plain": [
       "ticker\n",
       "GME     0.165911\n",
       "AMC     0.058821\n",
       "NAPA    0.056667\n",
       "BB      0.049852\n",
       "CLOV    0.045179\n",
       "PLTR    0.039604\n",
       "SPY     0.037637\n",
       "IRNT    0.035556\n",
       "WISH    0.027882\n",
       "SDC     0.026587\n",
       "DOLE    0.025000\n",
       "TSLA    0.022178\n",
       "HOOD    0.021477\n",
       "OPAD    0.020000\n",
       "MVIS    0.018916\n",
       "TMC     0.018611\n",
       "MNMD    0.017564\n",
       "CLNE    0.016797\n",
       "RKT     0.016405\n",
       "MVST    0.015000\n",
       "Name: pct_mentions, dtype: float64"
      ]
     },
     "execution_count": 34,
     "metadata": {},
     "output_type": "execute_result"
    }
   ],
   "source": [
    "#sort by pct_mentions rolled up into ticker\n",
    "df_pct_mentions = df.sort_values([\"pct_mentions\",\"ticker\"],ascending=False).groupby(\"ticker\")\n",
    "df_pct_mentions = df.groupby('ticker')['pct_mentions'].mean().sort_values(ascending=False)\n",
    "df_pct_mentions.head(20)\n",
    "\n",
    "#df_pct_mentions.to_csv('test.csv')"
   ]
  },
  {
   "cell_type": "code",
   "execution_count": 58,
   "metadata": {},
   "outputs": [
    {
     "data": {
      "text/plain": [
       "<bound method Series.count of ticker\n",
       "GME     0.165911\n",
       "AMC     0.058821\n",
       "NAPA    0.056667\n",
       "BB      0.049852\n",
       "CLOV    0.045179\n",
       "          ...   \n",
       "AUTO    0.005000\n",
       "AUY     0.005000\n",
       "URNM    0.005000\n",
       "OTLY    0.005000\n",
       "IO      0.005000\n",
       "Name: pct_mentions, Length: 3739, dtype: float64>"
      ]
     },
     "execution_count": 58,
     "metadata": {},
     "output_type": "execute_result"
    }
   ],
   "source": [
    "df_pct_mentions.value_counts()"
   ]
  },
  {
   "cell_type": "code",
   "execution_count": 44,
   "metadata": {
    "scrolled": true
   },
   "outputs": [
    {
     "data": {
      "text/html": [
       "<div>\n",
       "<style scoped>\n",
       "    .dataframe tbody tr th:only-of-type {\n",
       "        vertical-align: middle;\n",
       "    }\n",
       "\n",
       "    .dataframe tbody tr th {\n",
       "        vertical-align: top;\n",
       "    }\n",
       "\n",
       "    .dataframe thead th {\n",
       "        text-align: right;\n",
       "    }\n",
       "</style>\n",
       "<table border=\"1\" class=\"dataframe\">\n",
       "  <thead>\n",
       "    <tr style=\"text-align: right;\">\n",
       "      <th></th>\n",
       "      <th>date</th>\n",
       "      <th>url</th>\n",
       "      <th>num_mentions</th>\n",
       "      <th>pct_mentions</th>\n",
       "      <th>pos_count</th>\n",
       "      <th>neg_count</th>\n",
       "      <th>bullish_pct</th>\n",
       "      <th>bearish_pct</th>\n",
       "      <th>neutral_pct</th>\n",
       "      <th>price</th>\n",
       "      <th>price_change_net</th>\n",
       "      <th>price_change_pct</th>\n",
       "      <th>time_of_price</th>\n",
       "    </tr>\n",
       "    <tr>\n",
       "      <th>ticker</th>\n",
       "      <th></th>\n",
       "      <th></th>\n",
       "      <th></th>\n",
       "      <th></th>\n",
       "      <th></th>\n",
       "      <th></th>\n",
       "      <th></th>\n",
       "      <th></th>\n",
       "      <th></th>\n",
       "      <th></th>\n",
       "      <th></th>\n",
       "      <th></th>\n",
       "      <th></th>\n",
       "    </tr>\n",
       "  </thead>\n",
       "  <tbody>\n",
       "    <tr>\n",
       "      <th>NAPA</th>\n",
       "      <td>2021-03-23</td>\n",
       "      <td>https://finance.yahoo.com/quote/NAPA?p=NAPA</td>\n",
       "      <td>10</td>\n",
       "      <td>0.005</td>\n",
       "      <td>7</td>\n",
       "      <td>0</td>\n",
       "      <td>0.7</td>\n",
       "      <td>0.0</td>\n",
       "      <td>0.3</td>\n",
       "      <td>19.40</td>\n",
       "      <td>0.40</td>\n",
       "      <td>0.0211</td>\n",
       "      <td>At close:  4:00PM EDT</td>\n",
       "    </tr>\n",
       "    <tr>\n",
       "      <th>NAPA</th>\n",
       "      <td>2021-04-07</td>\n",
       "      <td>https://finance.yahoo.com/quote/NAPA?p=NAPA</td>\n",
       "      <td>1</td>\n",
       "      <td>0.005</td>\n",
       "      <td>1</td>\n",
       "      <td>0</td>\n",
       "      <td>1.0</td>\n",
       "      <td>0.0</td>\n",
       "      <td>0.0</td>\n",
       "      <td>17.54</td>\n",
       "      <td>0.02</td>\n",
       "      <td>0.0011</td>\n",
       "      <td>At close:  4:00PM EDT</td>\n",
       "    </tr>\n",
       "    <tr>\n",
       "      <th>NAPA</th>\n",
       "      <td>2021-07-16</td>\n",
       "      <td>https://finance.yahoo.com/quote/NAPA?p=NAPA</td>\n",
       "      <td>288</td>\n",
       "      <td>0.160</td>\n",
       "      <td>288</td>\n",
       "      <td>0</td>\n",
       "      <td>1.0</td>\n",
       "      <td>0.0</td>\n",
       "      <td>0.0</td>\n",
       "      <td>20.69</td>\n",
       "      <td>-0.68</td>\n",
       "      <td>-0.0316</td>\n",
       "      <td>As of  1:12PM EDT. Market open.</td>\n",
       "    </tr>\n",
       "  </tbody>\n",
       "</table>\n",
       "</div>"
      ],
      "text/plain": [
       "              date                                          url  num_mentions  \\\n",
       "ticker                                                                          \n",
       "NAPA    2021-03-23  https://finance.yahoo.com/quote/NAPA?p=NAPA            10   \n",
       "NAPA    2021-04-07  https://finance.yahoo.com/quote/NAPA?p=NAPA             1   \n",
       "NAPA    2021-07-16  https://finance.yahoo.com/quote/NAPA?p=NAPA           288   \n",
       "\n",
       "        pct_mentions  pos_count  neg_count  bullish_pct  bearish_pct  \\\n",
       "ticker                                                                 \n",
       "NAPA           0.005          7          0          0.7          0.0   \n",
       "NAPA           0.005          1          0          1.0          0.0   \n",
       "NAPA           0.160        288          0          1.0          0.0   \n",
       "\n",
       "        neutral_pct  price  price_change_net  price_change_pct  \\\n",
       "ticker                                                           \n",
       "NAPA            0.3  19.40              0.40            0.0211   \n",
       "NAPA            0.0  17.54              0.02            0.0011   \n",
       "NAPA            0.0  20.69             -0.68           -0.0316   \n",
       "\n",
       "                          time_of_price  \n",
       "ticker                                   \n",
       "NAPA              At close:  4:00PM EDT  \n",
       "NAPA              At close:  4:00PM EDT  \n",
       "NAPA    As of  1:12PM EDT. Market open.  "
      ]
     },
     "execution_count": 44,
     "metadata": {},
     "output_type": "execute_result"
    }
   ],
   "source": [
    "#what is NAPA seems like an outlier with few data points\n",
    "df[df.index == 'NAPA']"
   ]
  },
  {
   "cell_type": "code",
   "execution_count": 8,
   "metadata": {},
   "outputs": [
    {
     "data": {
      "text/plain": [
       "ticker\n",
       "GME     57609\n",
       "BB      17018\n",
       "AMC     16999\n",
       "PLTR     8497\n",
       "WISH     7928\n",
       "CLOV     5964\n",
       "RKT      5233\n",
       "TSLA     4434\n",
       "SPY      4033\n",
       "CLNE     3651\n",
       "UWMC     3128\n",
       "NOK      3075\n",
       "AMD      2974\n",
       "TLRY     2351\n",
       "MVIS     1995\n",
       "WKHS     1968\n",
       "APHA     1941\n",
       "SNDL     1859\n",
       "CLF      1763\n",
       "NIO      1643\n",
       "Name: pos_count, dtype: int64"
      ]
     },
     "execution_count": 8,
     "metadata": {},
     "output_type": "execute_result"
    }
   ],
   "source": [
    "#sort by pos_count rolled up into ticker\n",
    "df_pos_count =df.sort_values([\"pos_count\",\"ticker\"],ascending=False).groupby(\"ticker\")\n",
    "df_pos_count = df.groupby('ticker')['pos_count'].sum().sort_values(ascending=False)\n",
    "df_pos_count.head(20)\n",
    "\n",
    "#df_pos_count.to_csv('test.csv')"
   ]
  },
  {
   "cell_type": "code",
   "execution_count": 9,
   "metadata": {},
   "outputs": [
    {
     "data": {
      "text/plain": [
       "ticker\n",
       "GME     32026\n",
       "AMC      8611\n",
       "BB       7202\n",
       "PLTR     4758\n",
       "SPY      3128\n",
       "CLOV     2654\n",
       "TSLA     2554\n",
       "RKT      2518\n",
       "ALL      1552\n",
       "NOK      1478\n",
       "NIO      1270\n",
       "CLNE     1242\n",
       "UWMC     1211\n",
       "AMD      1189\n",
       "WISH     1185\n",
       "AAPL      976\n",
       "SNDL      967\n",
       "BABA      934\n",
       "MVIS      906\n",
       "TLRY      840\n",
       "Name: neg_count, dtype: int64"
      ]
     },
     "execution_count": 9,
     "metadata": {},
     "output_type": "execute_result"
    }
   ],
   "source": [
    "#sort by neg_count rolled up into ticker\n",
    "df_neg_count =df.sort_values([\"neg_count\",\"ticker\"],ascending=False).groupby(\"ticker\")\n",
    "df_neg_count = df.groupby('ticker')['neg_count'].sum().sort_values(ascending=False)\n",
    "df_neg_count.head(20)\n",
    "\n",
    "#df_neg_count.to_csv('test.csv')"
   ]
  }
 ],
 "metadata": {
  "kernelspec": {
   "display_name": "Python 3",
   "language": "python",
   "name": "python3"
  },
  "language_info": {
   "codemirror_mode": {
    "name": "ipython",
    "version": 3
   },
   "file_extension": ".py",
   "mimetype": "text/x-python",
   "name": "python",
   "nbconvert_exporter": "python",
   "pygments_lexer": "ipython3",
   "version": "3.8.3"
  }
 },
 "nbformat": 4,
 "nbformat_minor": 4
}
