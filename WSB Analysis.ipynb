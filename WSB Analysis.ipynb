{
 "cells": [
  {
   "cell_type": "code",
   "execution_count": 8,
   "metadata": {},
   "outputs": [],
   "source": [
    "import numpy as np\n",
    "import pandas as pd\n",
    "from matplotlib import pyplot as plt"
   ]
  },
  {
   "cell_type": "code",
   "execution_count": 54,
   "metadata": {},
   "outputs": [],
   "source": [
    "#read new combined cleaned dataset\n",
    "df = pd.read_csv(\"wsb.csv\", index_col=0)\n",
    "\n"
   ]
  },
  {
   "cell_type": "code",
   "execution_count": 104,
   "metadata": {},
   "outputs": [
    {
     "data": {
      "text/plain": [
       "ticker\n",
       "GME     122643.0\n",
       "BB       41669.0\n",
       "AMC      38061.0\n",
       "PLTR     20785.0\n",
       "CLOV     15889.0\n",
       "WISH     10965.0\n",
       "SPY      10823.0\n",
       "RKT      10520.0\n",
       "TSLA     10194.0\n",
       "CLNE      8252.0\n",
       "NOK       8133.0\n",
       "UWMC      6239.0\n",
       "AMD       5620.0\n",
       "TLRY      5362.0\n",
       "SNDL      5133.0\n",
       "AAPL      5040.0\n",
       "WKHS      4565.0\n",
       "MVIS      4465.0\n",
       "NIO       4198.0\n",
       "ALL       4063.0\n",
       "Name: num_mentions, dtype: float64"
      ]
     },
     "execution_count": 104,
     "metadata": {},
     "output_type": "execute_result"
    }
   ],
   "source": [
    "#sort by num_mentions rolled up into ticker\n",
    "df_num_mentions =df.sort_values([\"num_mentions\",\"ticker\"],ascending=False).groupby(\"ticker\")\n",
    "df_num_mentions = df.groupby('ticker')['num_mentions'].sum().sort_values(ascending=False)\n",
    "df_num_mentions.head(20)\n",
    "\n",
    "#df_num_mentions.to_csv('test.csv')"
   ]
  },
  {
   "cell_type": "code",
   "execution_count": 113,
   "metadata": {},
   "outputs": [
    {
     "data": {
      "text/plain": [
       "ticker\n",
       "GME     16.591133\n",
       "AMC      5.882051\n",
       "NAPA     5.666667\n",
       "BB       4.985222\n",
       "CLOV     4.517857\n",
       "PLTR     3.960396\n",
       "SPY      3.763682\n",
       "IRNT     3.555556\n",
       "WISH     2.788194\n",
       "SDC      2.658730\n",
       "DOLE     2.500000\n",
       "TSLA     2.217822\n",
       "HOOD     2.147727\n",
       "OPAD     2.000000\n",
       "MVIS     1.891608\n",
       "TMC      1.861111\n",
       "MNMD     1.756410\n",
       "CLNE     1.679688\n",
       "RKT      1.640541\n",
       "MVST     1.500000\n",
       "Name: pct_mentions, dtype: float64"
      ]
     },
     "execution_count": 113,
     "metadata": {},
     "output_type": "execute_result"
    }
   ],
   "source": [
    "#sort by pct_mentions rolled up into ticker\n",
    "df_pct_mentions = df.sort_values([\"pct_mentions\",\"ticker\"],ascending=False).groupby(\"ticker\")\n",
    "df_pct_mentions = df.groupby('ticker')['pct_mentions'].mean().sort_values(ascending=False)\n",
    "df_pct_mentions.head(20)\n",
    "\n",
    "#df_pct_mentions.to_csv('test.csv')"
   ]
  },
  {
   "cell_type": "code",
   "execution_count": 105,
   "metadata": {},
   "outputs": [
    {
     "data": {
      "text/plain": [
       "ticker\n",
       "GME     57609.0\n",
       "BB      17018.0\n",
       "AMC     16999.0\n",
       "PLTR     8497.0\n",
       "WISH     7928.0\n",
       "CLOV     5964.0\n",
       "RKT      5233.0\n",
       "TSLA     4434.0\n",
       "SPY      4033.0\n",
       "CLNE     3651.0\n",
       "UWMC     3128.0\n",
       "NOK      3075.0\n",
       "AMD      2974.0\n",
       "TLRY     2351.0\n",
       "MVIS     1995.0\n",
       "WKHS     1968.0\n",
       "APHA     1941.0\n",
       "SNDL     1859.0\n",
       "CLF      1763.0\n",
       "NIO      1643.0\n",
       "Name: pos_count, dtype: float64"
      ]
     },
     "execution_count": 105,
     "metadata": {},
     "output_type": "execute_result"
    }
   ],
   "source": [
    "#sort by pos_count rolled up into ticker\n",
    "df_pos_count =df.sort_values([\"pos_count\",\"ticker\"],ascending=False).groupby(\"ticker\")\n",
    "df_pos_count = df.groupby('ticker')['pos_count'].sum().sort_values(ascending=False)\n",
    "df_pos_count.head(20)\n",
    "\n",
    "#df_pos_count.to_csv('test.csv')"
   ]
  },
  {
   "cell_type": "code",
   "execution_count": 106,
   "metadata": {},
   "outputs": [
    {
     "data": {
      "text/plain": [
       "ticker\n",
       "GME     32026.0\n",
       "AMC      8611.0\n",
       "BB       7202.0\n",
       "PLTR     4758.0\n",
       "SPY      3128.0\n",
       "CLOV     2654.0\n",
       "TSLA     2554.0\n",
       "RKT      2518.0\n",
       "ALL      1552.0\n",
       "NOK      1478.0\n",
       "NIO      1270.0\n",
       "CLNE     1242.0\n",
       "UWMC     1211.0\n",
       "AMD      1189.0\n",
       "WISH     1185.0\n",
       "AAPL      976.0\n",
       "SNDL      967.0\n",
       "BABA      934.0\n",
       "MVIS      906.0\n",
       "TLRY      840.0\n",
       "Name: neg_count, dtype: float64"
      ]
     },
     "execution_count": 106,
     "metadata": {},
     "output_type": "execute_result"
    }
   ],
   "source": [
    "#sort by neg_count rolled up into ticker\n",
    "df_neg_count =df.sort_values([\"neg_count\",\"ticker\"],ascending=False).groupby(\"ticker\")\n",
    "df_neg_count = df.groupby('ticker')['neg_count'].sum().sort_values(ascending=False)\n",
    "df_neg_count.head(20)\n",
    "\n",
    "#df_neg_count.to_csv('test.csv')"
   ]
  }
 ],
 "metadata": {
  "kernelspec": {
   "display_name": "Python 3",
   "language": "python",
   "name": "python3"
  },
  "language_info": {
   "codemirror_mode": {
    "name": "ipython",
    "version": 3
   },
   "file_extension": ".py",
   "mimetype": "text/x-python",
   "name": "python",
   "nbconvert_exporter": "python",
   "pygments_lexer": "ipython3",
   "version": "3.8.3"
  }
 },
 "nbformat": 4,
 "nbformat_minor": 4
}
